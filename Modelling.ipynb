{
 "cells": [
  {
   "cell_type": "code",
   "execution_count": 18,
   "metadata": {},
   "outputs": [],
   "source": [
    "# Importing Libraries\n",
    "import pandas as pd\n",
    "import os\n",
    "import numpy as np\n",
    "from nltk.stem import PorterStemmer, WordNetLemmatizer\n",
    "from sklearn.feature_extraction.text import CountVectorizer\n",
    "from nltk.corpus import stopwords\n",
    "import string\n",
    "from nltk.tokenize import word_tokenize\n",
    "import re\n",
    "from sklearn.preprocessing import LabelEncoder\n",
    "from sklearn.model_selection import train_test_split, KFold, GridSearchCV\n",
    "kfold = KFold(5)\n",
    "from sklearn.naive_bayes import MultinomialNB\n",
    "from sklearn.metrics import accuracy_score, confusion_matrix"
   ]
  },
  {
   "cell_type": "markdown",
   "metadata": {},
   "source": [
    "# Preparing Data"
   ]
  },
  {
   "cell_type": "code",
   "execution_count": 2,
   "metadata": {},
   "outputs": [],
   "source": [
    "Datadirectory = 'Resumes'\n",
    "classes = ['Peoplesoft resumes','React resumes','SQL Developer Lightning insight','workday resumes']"
   ]
  },
  {
   "cell_type": "code",
   "execution_count": 7,
   "metadata": {},
   "outputs": [],
   "source": [
    "label = []\n",
    "key = []\n",
    "def create_training_data():\n",
    "    for category in classes:\n",
    "        path = os.path.join(Datadirectory,category)\n",
    "        class_num = classes.index(category)\n",
    "        for resume in os.listdir(path):\n",
    "            label.append(category)\n",
    "            key.append(resume)            \n",
    "\n",
    "create_training_data()        "
   ]
  },
  {
   "cell_type": "code",
   "execution_count": 11,
   "metadata": {},
   "outputs": [
    {
     "name": "stdout",
     "output_type": "stream",
     "text": [
      "Labels: \n",
      "['Peoplesoft resumes', 'Peoplesoft resumes', 'Peoplesoft resumes', 'Peoplesoft resumes', 'Peoplesoft resumes']\n",
      "Length of Labels: 78\n",
      "Keys: \n",
      "['Peoplesoft Admin_AnubhavSingh.docx', 'Peoplesoft Admin_G Ananda Rayudu.doc', 'Peoplesoft Admin_Gangareddy.doc', 'Peoplesoft Admin_Murali.docx', 'Peoplesoft Admin_Priyanka Ramadoss.doc']\n",
      "Length of Keys: 78\n"
     ]
    }
   ],
   "source": [
    "print('Labels: \\n{}\\nLength of Labels: {}\\nKeys: \\n{}\\nLength of Keys: {}'.format(label[:5], len(label), key[:5], len(key)))"
   ]
  },
  {
   "cell_type": "code",
   "execution_count": 15,
   "metadata": {},
   "outputs": [],
   "source": [
    "# Creating a Dictionary of Key and Label\n",
    "labelDict = dict(zip(key, label))\n",
    "\n",
    "# Sorting it in alphabetical order of keys\n",
    "finalDict = {}\n",
    "for i in sorted(labelDict.keys()):\n",
    "    finalDict[i] = labelDict[i]"
   ]
  },
  {
   "cell_type": "code",
   "execution_count": 17,
   "metadata": {},
   "outputs": [
    {
     "data": {
      "text/html": [
       "<div>\n",
       "<style scoped>\n",
       "    .dataframe tbody tr th:only-of-type {\n",
       "        vertical-align: middle;\n",
       "    }\n",
       "\n",
       "    .dataframe tbody tr th {\n",
       "        vertical-align: top;\n",
       "    }\n",
       "\n",
       "    .dataframe thead th {\n",
       "        text-align: right;\n",
       "    }\n",
       "</style>\n",
       "<table border=\"1\" class=\"dataframe\">\n",
       "  <thead>\n",
       "    <tr style=\"text-align: right;\">\n",
       "      <th></th>\n",
       "      <th>Name</th>\n",
       "      <th>Number</th>\n",
       "      <th>Email ID</th>\n",
       "      <th>Links</th>\n",
       "      <th>Education</th>\n",
       "      <th>Skills</th>\n",
       "      <th>University Name</th>\n",
       "      <th>Years of Experience</th>\n",
       "    </tr>\n",
       "  </thead>\n",
       "  <tbody>\n",
       "    <tr>\n",
       "      <th>0</th>\n",
       "      <td>ANIL KUMAR</td>\n",
       "      <td>['+911234567890']</td>\n",
       "      <td>ijayawadaabc@xyz.com</td>\n",
       "      <td>['https://www.linkedin.com/fake', 'https://www...</td>\n",
       "      <td>[('MS', '2016'), 'BTech']</td>\n",
       "      <td>['Sql', 'Debugging', 'Technical', 'Windows', '...</td>\n",
       "      <td>['Velagapudi siddhartha engineering college']</td>\n",
       "      <td>2.4</td>\n",
       "    </tr>\n",
       "    <tr>\n",
       "      <th>1</th>\n",
       "      <td>Aradhana Tripathi</td>\n",
       "      <td>['+911234567890']</td>\n",
       "      <td>niversity.abc@xyz.com</td>\n",
       "      <td>['https://www.linkedin.com/fake', 'https://www...</td>\n",
       "      <td>['MS', 'MCA']</td>\n",
       "      <td>['Sql', 'Acquisition', 'Stakeholder management...</td>\n",
       "      <td>['AKS University', ' IIIT ']</td>\n",
       "      <td>4</td>\n",
       "    </tr>\n",
       "    <tr>\n",
       "      <th>2</th>\n",
       "      <td>Database Engineer</td>\n",
       "      <td>['+911234567890']</td>\n",
       "      <td>knowledge.abc@xyz.com</td>\n",
       "      <td>['https://www.linkedin.com/fake', 'https://www...</td>\n",
       "      <td>['MS', ('SSC', '2011')]</td>\n",
       "      <td>['Sql', 'Servers', 'Technical', 'Programming',...</td>\n",
       "      <td>['Create ETL Jobs And Monitoring The Jobs ACAD...</td>\n",
       "      <td>NaN</td>\n",
       "    </tr>\n",
       "    <tr>\n",
       "      <th>3</th>\n",
       "      <td>Chinna Subbarayudu</td>\n",
       "      <td>['+911234567890']</td>\n",
       "      <td>2abc@xyz.com</td>\n",
       "      <td>['https://www.linkedin.com/fake', 'https://www...</td>\n",
       "      <td>['MS']</td>\n",
       "      <td>['Policies', 'Sql', 'Web services', 'Prototypi...</td>\n",
       "      <td>['Yogi Vemana University']</td>\n",
       "      <td>5.1</td>\n",
       "    </tr>\n",
       "    <tr>\n",
       "      <th>4</th>\n",
       "      <td>Gopi Krishna</td>\n",
       "      <td>['+911234567890']</td>\n",
       "      <td>annada.abc@xyz.com</td>\n",
       "      <td>['https://www.linkedin.com/fake', 'https://www...</td>\n",
       "      <td>['Bachelor of Degree from JNTU - K University ...</td>\n",
       "      <td>['Specifications', 'Technical', 'Communication...</td>\n",
       "      <td>['JNTU']</td>\n",
       "      <td>3+</td>\n",
       "    </tr>\n",
       "  </tbody>\n",
       "</table>\n",
       "</div>"
      ],
      "text/plain": [
       "                 Name             Number               Email ID  \\\n",
       "0          ANIL KUMAR  ['+911234567890']   ijayawadaabc@xyz.com   \n",
       "1   Aradhana Tripathi  ['+911234567890']  niversity.abc@xyz.com   \n",
       "2   Database Engineer  ['+911234567890']  knowledge.abc@xyz.com   \n",
       "3  Chinna Subbarayudu  ['+911234567890']           2abc@xyz.com   \n",
       "4        Gopi Krishna  ['+911234567890']     annada.abc@xyz.com   \n",
       "\n",
       "                                               Links  \\\n",
       "0  ['https://www.linkedin.com/fake', 'https://www...   \n",
       "1  ['https://www.linkedin.com/fake', 'https://www...   \n",
       "2  ['https://www.linkedin.com/fake', 'https://www...   \n",
       "3  ['https://www.linkedin.com/fake', 'https://www...   \n",
       "4  ['https://www.linkedin.com/fake', 'https://www...   \n",
       "\n",
       "                                           Education  \\\n",
       "0                          [('MS', '2016'), 'BTech']   \n",
       "1                                      ['MS', 'MCA']   \n",
       "2                            ['MS', ('SSC', '2011')]   \n",
       "3                                             ['MS']   \n",
       "4  ['Bachelor of Degree from JNTU - K University ...   \n",
       "\n",
       "                                              Skills  \\\n",
       "0  ['Sql', 'Debugging', 'Technical', 'Windows', '...   \n",
       "1  ['Sql', 'Acquisition', 'Stakeholder management...   \n",
       "2  ['Sql', 'Servers', 'Technical', 'Programming',...   \n",
       "3  ['Policies', 'Sql', 'Web services', 'Prototypi...   \n",
       "4  ['Specifications', 'Technical', 'Communication...   \n",
       "\n",
       "                                     University Name Years of Experience  \n",
       "0      ['Velagapudi siddhartha engineering college']                 2.4  \n",
       "1                       ['AKS University', ' IIIT ']                   4  \n",
       "2  ['Create ETL Jobs And Monitoring The Jobs ACAD...                 NaN  \n",
       "3                         ['Yogi Vemana University']                 5.1  \n",
       "4                                           ['JNTU']                  3+  "
      ]
     },
     "execution_count": 17,
     "metadata": {},
     "output_type": "execute_result"
    }
   ],
   "source": [
    "# Importing Details dataframe\n",
    "df = pd.read_csv('FinalDF.csv')\n",
    "df = df.iloc[:,1:]\n",
    "df.head()"
   ]
  },
  {
   "cell_type": "code",
   "execution_count": 18,
   "metadata": {},
   "outputs": [
    {
     "data": {
      "text/plain": [
       "Name                    0\n",
       "Number                  0\n",
       "Email ID                0\n",
       "Links                   0\n",
       "Education              11\n",
       "Skills                  0\n",
       "University Name         9\n",
       "Years of Experience     9\n",
       "dtype: int64"
      ]
     },
     "execution_count": 18,
     "metadata": {},
     "output_type": "execute_result"
    }
   ],
   "source": [
    "df.isnull().sum()"
   ]
  },
  {
   "cell_type": "code",
   "execution_count": 19,
   "metadata": {},
   "outputs": [
    {
     "data": {
      "text/html": [
       "<div>\n",
       "<style scoped>\n",
       "    .dataframe tbody tr th:only-of-type {\n",
       "        vertical-align: middle;\n",
       "    }\n",
       "\n",
       "    .dataframe tbody tr th {\n",
       "        vertical-align: top;\n",
       "    }\n",
       "\n",
       "    .dataframe thead th {\n",
       "        text-align: right;\n",
       "    }\n",
       "</style>\n",
       "<table border=\"1\" class=\"dataframe\">\n",
       "  <thead>\n",
       "    <tr style=\"text-align: right;\">\n",
       "      <th></th>\n",
       "      <th>Name</th>\n",
       "      <th>Skills</th>\n",
       "      <th>Label</th>\n",
       "    </tr>\n",
       "  </thead>\n",
       "  <tbody>\n",
       "    <tr>\n",
       "      <th>0</th>\n",
       "      <td>ANIL KUMAR</td>\n",
       "      <td>['Sql', 'Debugging', 'Technical', 'Windows', '...</td>\n",
       "      <td>Peoplesoft resumes</td>\n",
       "    </tr>\n",
       "    <tr>\n",
       "      <th>1</th>\n",
       "      <td>Aradhana Tripathi</td>\n",
       "      <td>['Sql', 'Acquisition', 'Stakeholder management...</td>\n",
       "      <td>Peoplesoft resumes</td>\n",
       "    </tr>\n",
       "    <tr>\n",
       "      <th>2</th>\n",
       "      <td>Database Engineer</td>\n",
       "      <td>['Sql', 'Servers', 'Technical', 'Programming',...</td>\n",
       "      <td>Peoplesoft resumes</td>\n",
       "    </tr>\n",
       "    <tr>\n",
       "      <th>3</th>\n",
       "      <td>Chinna Subbarayudu</td>\n",
       "      <td>['Policies', 'Sql', 'Web services', 'Prototypi...</td>\n",
       "      <td>Peoplesoft resumes</td>\n",
       "    </tr>\n",
       "    <tr>\n",
       "      <th>4</th>\n",
       "      <td>Gopi Krishna</td>\n",
       "      <td>['Specifications', 'Technical', 'Communication...</td>\n",
       "      <td>Peoplesoft resumes</td>\n",
       "    </tr>\n",
       "    <tr>\n",
       "      <th>5</th>\n",
       "      <td>Hari Krishna</td>\n",
       "      <td>['Hardware', 'Web services', 'Prototyping', 'S...</td>\n",
       "      <td>Peoplesoft resumes</td>\n",
       "    </tr>\n",
       "    <tr>\n",
       "      <th>6</th>\n",
       "      <td>Harikrishna Akula</td>\n",
       "      <td>['Sql', 'Web services', 'Workflow', 'Specifica...</td>\n",
       "      <td>Peoplesoft resumes</td>\n",
       "    </tr>\n",
       "    <tr>\n",
       "      <th>7</th>\n",
       "      <td>Career Objective</td>\n",
       "      <td>['Policies', 'System', 'Cloud', 'Engagement', ...</td>\n",
       "      <td>Peoplesoft resumes</td>\n",
       "    </tr>\n",
       "    <tr>\n",
       "      <th>8</th>\n",
       "      <td>G Himaja</td>\n",
       "      <td>['End user', 'Technical', 'Schedule', 'Windows...</td>\n",
       "      <td>Peoplesoft resumes</td>\n",
       "    </tr>\n",
       "    <tr>\n",
       "      <th>9</th>\n",
       "      <td>Ravali P</td>\n",
       "      <td>['Sql', 'Sdlc', 'Technical', 'Test cases', 'En...</td>\n",
       "      <td>Peoplesoft resumes</td>\n",
       "    </tr>\n",
       "  </tbody>\n",
       "</table>\n",
       "</div>"
      ],
      "text/plain": [
       "                 Name                                             Skills  \\\n",
       "0          ANIL KUMAR  ['Sql', 'Debugging', 'Technical', 'Windows', '...   \n",
       "1   Aradhana Tripathi  ['Sql', 'Acquisition', 'Stakeholder management...   \n",
       "2   Database Engineer  ['Sql', 'Servers', 'Technical', 'Programming',...   \n",
       "3  Chinna Subbarayudu  ['Policies', 'Sql', 'Web services', 'Prototypi...   \n",
       "4        Gopi Krishna  ['Specifications', 'Technical', 'Communication...   \n",
       "5        Hari Krishna  ['Hardware', 'Web services', 'Prototyping', 'S...   \n",
       "6   Harikrishna Akula  ['Sql', 'Web services', 'Workflow', 'Specifica...   \n",
       "7    Career Objective  ['Policies', 'System', 'Cloud', 'Engagement', ...   \n",
       "8            G Himaja  ['End user', 'Technical', 'Schedule', 'Windows...   \n",
       "9            Ravali P  ['Sql', 'Sdlc', 'Technical', 'Test cases', 'En...   \n",
       "\n",
       "                Label  \n",
       "0  Peoplesoft resumes  \n",
       "1  Peoplesoft resumes  \n",
       "2  Peoplesoft resumes  \n",
       "3  Peoplesoft resumes  \n",
       "4  Peoplesoft resumes  \n",
       "5  Peoplesoft resumes  \n",
       "6  Peoplesoft resumes  \n",
       "7  Peoplesoft resumes  \n",
       "8  Peoplesoft resumes  \n",
       "9  Peoplesoft resumes  "
      ]
     },
     "execution_count": 19,
     "metadata": {},
     "output_type": "execute_result"
    }
   ],
   "source": [
    "# Creating a Dataframe for Modelling\n",
    "model_df = pd.DataFrame(df['Name'])\n",
    "model_df['Skills'] = df['Skills']\n",
    "model_df['Label'] = labelDict.values()\n",
    "model_df.head(10)"
   ]
  },
  {
   "cell_type": "code",
   "execution_count": 21,
   "metadata": {},
   "outputs": [
    {
     "data": {
      "text/html": [
       "<div>\n",
       "<style scoped>\n",
       "    .dataframe tbody tr th:only-of-type {\n",
       "        vertical-align: middle;\n",
       "    }\n",
       "\n",
       "    .dataframe tbody tr th {\n",
       "        vertical-align: top;\n",
       "    }\n",
       "\n",
       "    .dataframe thead th {\n",
       "        text-align: right;\n",
       "    }\n",
       "</style>\n",
       "<table border=\"1\" class=\"dataframe\">\n",
       "  <thead>\n",
       "    <tr style=\"text-align: right;\">\n",
       "      <th></th>\n",
       "      <th>Name</th>\n",
       "      <th>Skills</th>\n",
       "      <th>Label</th>\n",
       "    </tr>\n",
       "  </thead>\n",
       "  <tbody>\n",
       "    <tr>\n",
       "      <th>50</th>\n",
       "      <td>KAMALAKAR REDDY</td>\n",
       "      <td>['Coding', 'Technical', 'Windows', 'Communicat...</td>\n",
       "      <td>SQL Developer Lightning insight</td>\n",
       "    </tr>\n",
       "    <tr>\n",
       "      <th>51</th>\n",
       "      <td>Naveen Sadhu</td>\n",
       "      <td>['English', 'Computer science', 'Testing', 'Sq...</td>\n",
       "      <td>SQL Developer Lightning insight</td>\n",
       "    </tr>\n",
       "    <tr>\n",
       "      <th>52</th>\n",
       "      <td>WEB DEVELOPER</td>\n",
       "      <td>['Matlab', 'Technical', 'Programming', 'Commun...</td>\n",
       "      <td>SQL Developer Lightning insight</td>\n",
       "    </tr>\n",
       "    <tr>\n",
       "      <th>53</th>\n",
       "      <td>PRAGNYA PATTNAIK</td>\n",
       "      <td>['Technical', 'Windows', 'Github', 'Ecommerce'...</td>\n",
       "      <td>SQL Developer Lightning insight</td>\n",
       "    </tr>\n",
       "    <tr>\n",
       "      <th>54</th>\n",
       "      <td>SARALA MADASU</td>\n",
       "      <td>['Ui', 'Usability', 'Research', 'Crm', 'Html',...</td>\n",
       "      <td>SQL Developer Lightning insight</td>\n",
       "    </tr>\n",
       "    <tr>\n",
       "      <th>55</th>\n",
       "      <td>React Developer</td>\n",
       "      <td>['Engineering', 'Sql', 'Testing', '.net', 'Ele...</td>\n",
       "      <td>SQL Developer Lightning insight</td>\n",
       "    </tr>\n",
       "    <tr>\n",
       "      <th>56</th>\n",
       "      <td>Maryala Vinay</td>\n",
       "      <td>['Warehouse', 'Specifications', 'Sdlc', 'Techn...</td>\n",
       "      <td>SQL Developer Lightning insight</td>\n",
       "    </tr>\n",
       "    <tr>\n",
       "      <th>57</th>\n",
       "      <td>Developer/ React</td>\n",
       "      <td>['Ios', 'Coding', 'Web services', 'Technical',...</td>\n",
       "      <td>workday resumes</td>\n",
       "    </tr>\n",
       "    <tr>\n",
       "      <th>58</th>\n",
       "      <td>Developer/ React</td>\n",
       "      <td>['Coding', 'Technical', 'Brand', 'Windows', 'Q...</td>\n",
       "      <td>workday resumes</td>\n",
       "    </tr>\n",
       "    <tr>\n",
       "      <th>59</th>\n",
       "      <td>VITAE Anjani</td>\n",
       "      <td>['English', 'Payments', 'Engineering', 'Html',...</td>\n",
       "      <td>workday resumes</td>\n",
       "    </tr>\n",
       "  </tbody>\n",
       "</table>\n",
       "</div>"
      ],
      "text/plain": [
       "                Name                                             Skills  \\\n",
       "50   KAMALAKAR REDDY  ['Coding', 'Technical', 'Windows', 'Communicat...   \n",
       "51      Naveen Sadhu  ['English', 'Computer science', 'Testing', 'Sq...   \n",
       "52     WEB DEVELOPER  ['Matlab', 'Technical', 'Programming', 'Commun...   \n",
       "53  PRAGNYA PATTNAIK  ['Technical', 'Windows', 'Github', 'Ecommerce'...   \n",
       "54     SARALA MADASU  ['Ui', 'Usability', 'Research', 'Crm', 'Html',...   \n",
       "55   React Developer  ['Engineering', 'Sql', 'Testing', '.net', 'Ele...   \n",
       "56     Maryala Vinay  ['Warehouse', 'Specifications', 'Sdlc', 'Techn...   \n",
       "57  Developer/ React  ['Ios', 'Coding', 'Web services', 'Technical',...   \n",
       "58  Developer/ React  ['Coding', 'Technical', 'Brand', 'Windows', 'Q...   \n",
       "59      VITAE Anjani  ['English', 'Payments', 'Engineering', 'Html',...   \n",
       "\n",
       "                              Label  \n",
       "50  SQL Developer Lightning insight  \n",
       "51  SQL Developer Lightning insight  \n",
       "52  SQL Developer Lightning insight  \n",
       "53  SQL Developer Lightning insight  \n",
       "54  SQL Developer Lightning insight  \n",
       "55  SQL Developer Lightning insight  \n",
       "56  SQL Developer Lightning insight  \n",
       "57                  workday resumes  \n",
       "58                  workday resumes  \n",
       "59                  workday resumes  "
      ]
     },
     "execution_count": 21,
     "metadata": {},
     "output_type": "execute_result"
    }
   ],
   "source": [
    "model_df[50:60]"
   ]
  },
  {
   "cell_type": "code",
   "execution_count": 22,
   "metadata": {},
   "outputs": [],
   "source": [
    "# Storing it in a csv file\n",
    "# model_df.to_csv('ResumeClassificationDF.csv')"
   ]
  },
  {
   "cell_type": "code",
   "execution_count": 2,
   "metadata": {},
   "outputs": [],
   "source": [
    "model_df = pd.read_csv('ResumeClassificationDF.csv')\n",
    "model_df = model_df.iloc[:,1:]"
   ]
  },
  {
   "cell_type": "code",
   "execution_count": 25,
   "metadata": {},
   "outputs": [
    {
     "data": {
      "text/plain": [
       "Name      0\n",
       "Skills    0\n",
       "Label     0\n",
       "dtype: int64"
      ]
     },
     "execution_count": 25,
     "metadata": {},
     "output_type": "execute_result"
    }
   ],
   "source": [
    "model_df.isnull().sum()"
   ]
  },
  {
   "cell_type": "markdown",
   "metadata": {},
   "source": [
    "# Data Pre-Processing"
   ]
  },
  {
   "cell_type": "markdown",
   "metadata": {},
   "source": [
    "## Data Cleaning"
   ]
  },
  {
   "cell_type": "code",
   "execution_count": 3,
   "metadata": {},
   "outputs": [],
   "source": [
    "lemmetizer = WordNetLemmatizer()\n",
    "stop_words = stopwords.words('english')\n",
    "\n",
    "cleaned_data = []\n",
    "def clean_data(text):\n",
    "    text_clean = []\n",
    "    text_tokens = word_tokenize(text)\n",
    "    for word in text_tokens:\n",
    "        if (word not in stop_words and # remove stopwords\n",
    "            word not in string.punctuation): # remove punctuation\n",
    "            stem_word = lemmetizer.lemmatize(word) # stemming word\n",
    "            text_clean.append(stem_word)\n",
    "    list_to_str = ' '.join([str(ele) for ele in text_clean])\n",
    "    list_to_str = re.sub(\"'\",'',list_to_str)   \n",
    "    return list_to_str.lower() \n",
    "\n",
    " # Calling Function\n",
    "for text in model_df['Skills']:\n",
    "    cleaned_data.append(clean_data(text))"
   ]
  },
  {
   "cell_type": "code",
   "execution_count": 4,
   "metadata": {},
   "outputs": [
    {
     "data": {
      "text/html": [
       "<div>\n",
       "<style scoped>\n",
       "    .dataframe tbody tr th:only-of-type {\n",
       "        vertical-align: middle;\n",
       "    }\n",
       "\n",
       "    .dataframe tbody tr th {\n",
       "        vertical-align: top;\n",
       "    }\n",
       "\n",
       "    .dataframe thead th {\n",
       "        text-align: right;\n",
       "    }\n",
       "</style>\n",
       "<table border=\"1\" class=\"dataframe\">\n",
       "  <thead>\n",
       "    <tr style=\"text-align: right;\">\n",
       "      <th></th>\n",
       "      <th>Name</th>\n",
       "      <th>Skills</th>\n",
       "      <th>Label</th>\n",
       "      <th>Cleaned Skills</th>\n",
       "    </tr>\n",
       "  </thead>\n",
       "  <tbody>\n",
       "    <tr>\n",
       "      <th>0</th>\n",
       "      <td>ANIL KUMAR</td>\n",
       "      <td>['Sql', 'Debugging', 'Technical', 'Windows', '...</td>\n",
       "      <td>Peoplesoft resumes</td>\n",
       "      <td>sql debugging technical windows queries matrix...</td>\n",
       "    </tr>\n",
       "    <tr>\n",
       "      <th>1</th>\n",
       "      <td>Aradhana Tripathi</td>\n",
       "      <td>['Sql', 'Acquisition', 'Stakeholder management...</td>\n",
       "      <td>Peoplesoft resumes</td>\n",
       "      <td>sql acquisition stakeholder management technic...</td>\n",
       "    </tr>\n",
       "    <tr>\n",
       "      <th>2</th>\n",
       "      <td>Database Engineer</td>\n",
       "      <td>['Sql', 'Servers', 'Technical', 'Programming',...</td>\n",
       "      <td>Peoplesoft resumes</td>\n",
       "      <td>sql servers technical programming ubuntu engli...</td>\n",
       "    </tr>\n",
       "    <tr>\n",
       "      <th>3</th>\n",
       "      <td>Chinna Subbarayudu</td>\n",
       "      <td>['Policies', 'Sql', 'Web services', 'Prototypi...</td>\n",
       "      <td>Peoplesoft resumes</td>\n",
       "      <td>policies sql web service prototyping technical...</td>\n",
       "    </tr>\n",
       "    <tr>\n",
       "      <th>4</th>\n",
       "      <td>Gopi Krishna</td>\n",
       "      <td>['Specifications', 'Technical', 'Communication...</td>\n",
       "      <td>Peoplesoft resumes</td>\n",
       "      <td>specifications technical communication present...</td>\n",
       "    </tr>\n",
       "  </tbody>\n",
       "</table>\n",
       "</div>"
      ],
      "text/plain": [
       "                 Name                                             Skills  \\\n",
       "0          ANIL KUMAR  ['Sql', 'Debugging', 'Technical', 'Windows', '...   \n",
       "1   Aradhana Tripathi  ['Sql', 'Acquisition', 'Stakeholder management...   \n",
       "2   Database Engineer  ['Sql', 'Servers', 'Technical', 'Programming',...   \n",
       "3  Chinna Subbarayudu  ['Policies', 'Sql', 'Web services', 'Prototypi...   \n",
       "4        Gopi Krishna  ['Specifications', 'Technical', 'Communication...   \n",
       "\n",
       "                Label                                     Cleaned Skills  \n",
       "0  Peoplesoft resumes  sql debugging technical windows queries matrix...  \n",
       "1  Peoplesoft resumes  sql acquisition stakeholder management technic...  \n",
       "2  Peoplesoft resumes  sql servers technical programming ubuntu engli...  \n",
       "3  Peoplesoft resumes  policies sql web service prototyping technical...  \n",
       "4  Peoplesoft resumes  specifications technical communication present...  "
      ]
     },
     "execution_count": 4,
     "metadata": {},
     "output_type": "execute_result"
    }
   ],
   "source": [
    "model_df['Cleaned Skills'] = cleaned_data\n",
    "model_df.head()"
   ]
  },
  {
   "cell_type": "markdown",
   "metadata": {},
   "source": [
    "## Vectorization and Label Encoding"
   ]
  },
  {
   "cell_type": "code",
   "execution_count": 5,
   "metadata": {},
   "outputs": [],
   "source": [
    "CV = CountVectorizer(stop_words = 'english')\n",
    "le = LabelEncoder()"
   ]
  },
  {
   "cell_type": "code",
   "execution_count": 6,
   "metadata": {},
   "outputs": [],
   "source": [
    "# Label Encoder\n",
    "model_df['Label'] = le.fit_transform(model_df['Label'])\n",
    "\n",
    "\n",
    "# Bag of Words Vectorization\n",
    "# model_df['Vectorized Skills'] = CV.fit_transform(model_df['Cleaned Skills'])"
   ]
  },
  {
   "cell_type": "code",
   "execution_count": 7,
   "metadata": {},
   "outputs": [
    {
     "data": {
      "text/html": [
       "<div>\n",
       "<style scoped>\n",
       "    .dataframe tbody tr th:only-of-type {\n",
       "        vertical-align: middle;\n",
       "    }\n",
       "\n",
       "    .dataframe tbody tr th {\n",
       "        vertical-align: top;\n",
       "    }\n",
       "\n",
       "    .dataframe thead th {\n",
       "        text-align: right;\n",
       "    }\n",
       "</style>\n",
       "<table border=\"1\" class=\"dataframe\">\n",
       "  <thead>\n",
       "    <tr style=\"text-align: right;\">\n",
       "      <th></th>\n",
       "      <th>Name</th>\n",
       "      <th>Skills</th>\n",
       "      <th>Label</th>\n",
       "      <th>Cleaned Skills</th>\n",
       "    </tr>\n",
       "  </thead>\n",
       "  <tbody>\n",
       "    <tr>\n",
       "      <th>0</th>\n",
       "      <td>ANIL KUMAR</td>\n",
       "      <td>['Sql', 'Debugging', 'Technical', 'Windows', '...</td>\n",
       "      <td>0</td>\n",
       "      <td>sql debugging technical windows queries matrix...</td>\n",
       "    </tr>\n",
       "    <tr>\n",
       "      <th>1</th>\n",
       "      <td>Aradhana Tripathi</td>\n",
       "      <td>['Sql', 'Acquisition', 'Stakeholder management...</td>\n",
       "      <td>0</td>\n",
       "      <td>sql acquisition stakeholder management technic...</td>\n",
       "    </tr>\n",
       "    <tr>\n",
       "      <th>2</th>\n",
       "      <td>Database Engineer</td>\n",
       "      <td>['Sql', 'Servers', 'Technical', 'Programming',...</td>\n",
       "      <td>0</td>\n",
       "      <td>sql servers technical programming ubuntu engli...</td>\n",
       "    </tr>\n",
       "    <tr>\n",
       "      <th>3</th>\n",
       "      <td>Chinna Subbarayudu</td>\n",
       "      <td>['Policies', 'Sql', 'Web services', 'Prototypi...</td>\n",
       "      <td>0</td>\n",
       "      <td>policies sql web service prototyping technical...</td>\n",
       "    </tr>\n",
       "    <tr>\n",
       "      <th>4</th>\n",
       "      <td>Gopi Krishna</td>\n",
       "      <td>['Specifications', 'Technical', 'Communication...</td>\n",
       "      <td>0</td>\n",
       "      <td>specifications technical communication present...</td>\n",
       "    </tr>\n",
       "  </tbody>\n",
       "</table>\n",
       "</div>"
      ],
      "text/plain": [
       "                 Name                                             Skills  \\\n",
       "0          ANIL KUMAR  ['Sql', 'Debugging', 'Technical', 'Windows', '...   \n",
       "1   Aradhana Tripathi  ['Sql', 'Acquisition', 'Stakeholder management...   \n",
       "2   Database Engineer  ['Sql', 'Servers', 'Technical', 'Programming',...   \n",
       "3  Chinna Subbarayudu  ['Policies', 'Sql', 'Web services', 'Prototypi...   \n",
       "4        Gopi Krishna  ['Specifications', 'Technical', 'Communication...   \n",
       "\n",
       "   Label                                     Cleaned Skills  \n",
       "0      0  sql debugging technical windows queries matrix...  \n",
       "1      0  sql acquisition stakeholder management technic...  \n",
       "2      0  sql servers technical programming ubuntu engli...  \n",
       "3      0  policies sql web service prototyping technical...  \n",
       "4      0  specifications technical communication present...  "
      ]
     },
     "execution_count": 7,
     "metadata": {},
     "output_type": "execute_result"
    }
   ],
   "source": [
    "model_df.head(5)"
   ]
  },
  {
   "cell_type": "markdown",
   "metadata": {},
   "source": [
    "## Splitting into Training and Testing"
   ]
  },
  {
   "cell_type": "code",
   "execution_count": 8,
   "metadata": {},
   "outputs": [
    {
     "data": {
      "text/plain": [
       "((62,), (16,), (62,), (16,))"
      ]
     },
     "execution_count": 8,
     "metadata": {},
     "output_type": "execute_result"
    }
   ],
   "source": [
    "X = model_df['Cleaned Skills'].values\n",
    "y = model_df['Label'].values\n",
    "X_train, X_test, y_train, y_test = train_test_split(X,y, test_size= 0.20, random_state= 42)\n",
    "X_train.shape, X_test.shape, y_train.shape, y_test.shape"
   ]
  },
  {
   "cell_type": "markdown",
   "metadata": {},
   "source": [
    "# Model Training"
   ]
  },
  {
   "cell_type": "code",
   "execution_count": 9,
   "metadata": {},
   "outputs": [],
   "source": [
    "mnb = MultinomialNB()\n",
    "X_train_CV = CV.fit_transform(X_train)\n",
    "mnb.fit(X_train_CV, y_train)\n",
    "X_test_CV = CV.transform(X_test)\n",
    "y_pred = mnb.predict(X_test_CV)"
   ]
  },
  {
   "cell_type": "code",
   "execution_count": 10,
   "metadata": {},
   "outputs": [
    {
     "data": {
      "text/plain": [
       "50.0"
      ]
     },
     "execution_count": 10,
     "metadata": {},
     "output_type": "execute_result"
    }
   ],
   "source": [
    "accuracy_score(y_pred, y_test)*100"
   ]
  },
  {
   "cell_type": "code",
   "execution_count": 33,
   "metadata": {},
   "outputs": [
    {
     "data": {
      "text/plain": [
       "56.25"
      ]
     },
     "execution_count": 33,
     "metadata": {},
     "output_type": "execute_result"
    }
   ],
   "source": [
    "from sklearn.ensemble import RandomForestClassifier\n",
    "clf_rf = RandomForestClassifier()\n",
    "clf_rf.fit(X_train_CV, y_train)\n",
    "y_pred = clf_rf.predict(X_test_CV)\n",
    "accuracy_score(y_pred, y_test)*100"
   ]
  },
  {
   "cell_type": "markdown",
   "metadata": {},
   "source": [
    "# Model Evaluation"
   ]
  },
  {
   "cell_type": "code",
   "execution_count": 45,
   "metadata": {},
   "outputs": [],
   "source": [
    "# Define a function to compute Precision, Recall and F1 score\n",
    "from sklearn.metrics import roc_auc_score, precision_score, recall_score\n",
    "precision, recall, f1, models, accuracy = [], [],[], [], []\n",
    "def get_pre_rec_f1(model_name, model,X_test,y_test):\n",
    "    models.append(model_name)\n",
    "    y_pred = model.predict(X_test)\n",
    "    precision_Score = precision_score(y_test, y_pred, average = 'weighted')\n",
    "    recall_Score = recall_score(y_test, y_pred, average = 'weighted')\n",
    "    F1 = 2 * (precision_Score * recall_Score) / (precision_Score + recall_Score)\n",
    "    accuracy_Score = accuracy_score(y_test, y_pred)\n",
    "    precision.append(precision_Score)\n",
    "    recall.append(recall_Score)\n",
    "    f1.append(F1)\n",
    "    accuracy.append(accuracy_Score)\n",
    "    df = pd.DataFrame(models,columns=['Model'] )\n",
    "    df['Accuracy'] = accuracy\n",
    "    df['Precision'] = precision\n",
    "    df['Recall'] = recall\n",
    "    df['F1 Score'] = f1\n",
    "    return df\n",
    "    # print(f'Precision:{precision:.3f}\\nRecall:{recall:.3f}\\nF1 score:{F1:.3f}')"
   ]
  },
  {
   "cell_type": "code",
   "execution_count": 46,
   "metadata": {},
   "outputs": [
    {
     "data": {
      "text/html": [
       "<div>\n",
       "<style scoped>\n",
       "    .dataframe tbody tr th:only-of-type {\n",
       "        vertical-align: middle;\n",
       "    }\n",
       "\n",
       "    .dataframe tbody tr th {\n",
       "        vertical-align: top;\n",
       "    }\n",
       "\n",
       "    .dataframe thead th {\n",
       "        text-align: right;\n",
       "    }\n",
       "</style>\n",
       "<table border=\"1\" class=\"dataframe\">\n",
       "  <thead>\n",
       "    <tr style=\"text-align: right;\">\n",
       "      <th></th>\n",
       "      <th>Model</th>\n",
       "      <th>Accuracy</th>\n",
       "      <th>Precision</th>\n",
       "      <th>Recall</th>\n",
       "      <th>F1 Score</th>\n",
       "    </tr>\n",
       "  </thead>\n",
       "  <tbody>\n",
       "    <tr>\n",
       "      <th>0</th>\n",
       "      <td>Multinomial Naive Bayes</td>\n",
       "      <td>0.5000</td>\n",
       "      <td>0.508929</td>\n",
       "      <td>0.5000</td>\n",
       "      <td>0.504425</td>\n",
       "    </tr>\n",
       "    <tr>\n",
       "      <th>1</th>\n",
       "      <td>Random Forest Classifier</td>\n",
       "      <td>0.5625</td>\n",
       "      <td>0.602679</td>\n",
       "      <td>0.5625</td>\n",
       "      <td>0.581897</td>\n",
       "    </tr>\n",
       "  </tbody>\n",
       "</table>\n",
       "</div>"
      ],
      "text/plain": [
       "                      Model  Accuracy  Precision  Recall  F1 Score\n",
       "0   Multinomial Naive Bayes    0.5000   0.508929  0.5000  0.504425\n",
       "1  Random Forest Classifier    0.5625   0.602679  0.5625  0.581897"
      ]
     },
     "execution_count": 46,
     "metadata": {},
     "output_type": "execute_result"
    }
   ],
   "source": [
    "eval_df = get_pre_rec_f1('Multinomial Naive Bayes', mnb, X_test_CV, y_test)\n",
    "eval_df = get_pre_rec_f1('Random Forest Classifier', clf_rf, X_test_CV, y_test)\n",
    "eval_df"
   ]
  }
 ],
 "metadata": {
  "interpreter": {
   "hash": "ac59ebe37160ed0dfa835113d9b8498d9f09ceb179beaac4002f036b9467c963"
  },
  "kernelspec": {
   "display_name": "Python 3.9.5 64-bit",
   "language": "python",
   "name": "python3"
  },
  "language_info": {
   "codemirror_mode": {
    "name": "ipython",
    "version": 3
   },
   "file_extension": ".py",
   "mimetype": "text/x-python",
   "name": "python",
   "nbconvert_exporter": "python",
   "pygments_lexer": "ipython3",
   "version": "3.9.5"
  },
  "orig_nbformat": 4
 },
 "nbformat": 4,
 "nbformat_minor": 2
}
